{
 "cells": [
  {
   "cell_type": "code",
   "execution_count": 2,
   "metadata": {},
   "outputs": [],
   "source": [
    "import numpy as np\n",
    "import pandas as pd"
   ]
  },
  {
   "cell_type": "code",
   "execution_count": 3,
   "metadata": {},
   "outputs": [
    {
     "data": {
      "text/plain": [
       "(   Pclass   Age  SibSp  Parch     Fare  Embarked_C  Embarked_Q  Embarked_S  \\\n",
       " 0       3  22.0      1      0   7.2500           0           0           1   \n",
       " 1       1  38.0      1      0  71.2833           1           0           0   \n",
       " 2       3  26.0      0      0   7.9250           0           0           1   \n",
       " 3       1  35.0      1      0  53.1000           0           0           1   \n",
       " 4       3  35.0      0      0   8.0500           0           0           1   \n",
       " \n",
       "    Sex_female  Sex_male  \n",
       " 0           0         1  \n",
       " 1           1         0  \n",
       " 2           1         0  \n",
       " 3           1         0  \n",
       " 4           0         1  ,\n",
       " 0    0\n",
       " 1    1\n",
       " 2    1\n",
       " 3    1\n",
       " 4    0\n",
       " Name: Survived, dtype: int64)"
      ]
     },
     "execution_count": 3,
     "metadata": {},
     "output_type": "execute_result"
    }
   ],
   "source": [
    "dataset = pd.read_csv('titanic.csv')\n",
    "\n",
    "# Delete the columns that are not useful\n",
    "dataset = dataset.drop(['PassengerId', 'Name', 'Ticket', 'Cabin'], axis=1)\n",
    "\n",
    "# Fill the missing values\n",
    "dataset['Age'] = dataset['Age'].fillna(dataset['Age'].mean())\n",
    "dataset['Embarked'] = dataset['Embarked'].fillna(dataset['Embarked'].mode()[0])\n",
    "\n",
    "# Convert the categorical variables into dummy variables\n",
    "dataset = pd.get_dummies(dataset, columns=['Embarked', 'Sex'])\n",
    "\n",
    "# True to 1, False to 0\n",
    "dataset['Embarked_C'] = dataset['Embarked_C'].astype(np.int64)\n",
    "dataset['Embarked_Q'] = dataset['Embarked_Q'].astype(np.int64)\n",
    "dataset['Embarked_S'] = dataset['Embarked_S'].astype(np.int64)\n",
    "dataset['Sex_female'] = dataset['Sex_female'].astype(np.int64)\n",
    "dataset['Sex_male'] = dataset['Sex_male'].astype(np.int64)\n",
    "\n",
    "# Split the dataset into the input and output variables\n",
    "X = dataset.drop('Survived', axis=1)\n",
    "y = dataset['Survived']\n",
    "\n",
    "# Split the dataset into the training and test sets\n",
    "len_train = int(len(dataset) * 0.8)\n",
    "X_train, X_test = X[:len_train], X[len_train:]\n",
    "y_train, y_test = y[:len_train], y[len_train:]\n",
    "\n",
    "X_train.head(5), y_train.head(5)"
   ]
  },
  {
   "cell_type": "markdown",
   "metadata": {},
   "source": [
    "$f(\\vec{x}) = \\vec{x} \\cdot \\vec{w} + b$"
   ]
  },
  {
   "cell_type": "code",
   "execution_count": 6,
   "metadata": {},
   "outputs": [
    {
     "name": "stdout",
     "output_type": "stream",
     "text": [
      "Accuracy: 0.7821229050279329\n",
      "Precision: 0.711864406779661\n",
      "Recall: 0.65625\n",
      "F1: 0.6829268292682927\n"
     ]
    }
   ],
   "source": [
    "def scaler(X):\n",
    "    return (X - np.mean(X, axis=0)) / np.std(X, axis=0)\n",
    "\n",
    "class LinearModel:\n",
    "    def __init__(self):\n",
    "        self.w = None\n",
    "        self.b = None\n",
    "\n",
    "    def fit(self, X, y, learning_rate=0.01, epochs=1000):\n",
    "        self.w = np.zeros(X.shape[1])\n",
    "        self.b = 0\n",
    "\n",
    "        X = scaler(X)\n",
    "\n",
    "        for _ in range(epochs):\n",
    "            z = np.dot(X, self.w) + self.b\n",
    "            y_pred = 1 / (1 + np.exp(-z))\n",
    "            error = y - y_pred\n",
    "            self.w += learning_rate * np.dot(X.T, error)\n",
    "            self.b += learning_rate * np.sum(error)\n",
    "\n",
    "    def predict(self, X):\n",
    "        X = scaler(X)\n",
    "        z = np.dot(X, self.w) + self.b\n",
    "        return 1 / (1 + np.exp(-z))\n",
    "\n",
    "model = LinearModel()\n",
    "model.fit(X_train, y_train)\n",
    "\n",
    "y_pred_prob = model.predict(X_test)\n",
    "y_pred = (y_pred_prob >= 0.5).astype(int)\n",
    "\n",
    "accuracy = np.mean(y_pred == y_test)\n",
    "precision = np.sum((y_pred == 1) & (y_test == 1)) / np.sum(y_pred == 1)\n",
    "recall = np.sum((y_pred == 1) & (y_test == 1)) / np.sum(y_test == 1)\n",
    "f1 = 2 * precision * recall / (precision + recall)\n",
    "\n",
    "print(f'Accuracy: {accuracy}')\n",
    "print(f'Precision: {precision}')\n",
    "print(f'Recall: {recall}')\n",
    "print(f'F1: {f1}')"
   ]
  },
  {
   "cell_type": "code",
   "execution_count": null,
   "metadata": {},
   "outputs": [],
   "source": []
  }
 ],
 "metadata": {
  "kernelspec": {
   "display_name": "Python 3",
   "language": "python",
   "name": "python3"
  },
  "language_info": {
   "codemirror_mode": {
    "name": "ipython",
    "version": 3
   },
   "file_extension": ".py",
   "mimetype": "text/x-python",
   "name": "python",
   "nbconvert_exporter": "python",
   "pygments_lexer": "ipython3",
   "version": "3.12.2"
  }
 },
 "nbformat": 4,
 "nbformat_minor": 2
}
